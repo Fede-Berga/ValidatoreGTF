{
 "cells": [
  {
   "cell_type": "markdown",
   "metadata": {},
   "source": [
    "# Bergamini Federico 845646\n",
    "\n",
    "Inizializzo i parametri e importo le librerie, in particolare:\n",
    "- il nome del file da validare. \n",
    "- il nome del file contenente il report delle violazioni.\n",
    "- importo sys e re\n",
    "-dichiaro due espressioni regolari utili per il gene_id e il transcript_id"
   ]
  },
  {
   "cell_type": "code",
   "execution_count": 90,
   "metadata": {},
   "outputs": [],
   "source": [
    "import sys\n",
    "import re\n",
    "gtf_file_name = './error_files/err7.gtf' #per testare gli errori, inserire il nome del file che si vuole testare\n",
    "#gtf_file_name = './input.gtf'\n",
    "report_file_name = './report.txt'\n",
    "gene_regexpr = 'gene_id\\s+\"([^\"]+)\";'\n",
    "transcript_regexpr = 'transcript_id\\s+\"([^\"]+)\";'"
   ]
  },
  {
   "cell_type": "markdown",
   "metadata": {},
   "source": [
    "**Funzione write_error:**\n",
    "\n",
    "**@parameter** *report_file_name* `Nome del file di report`\n",
    "\n",
    "**@parameter** *error_comment* `Commento di un errore commesso nel file GTF`\n",
    "\n",
    "**@parameter** *error_line* `Linea a cui è stato commesso l'errore`\n",
    "\n",
    "**@post_condition** `Viene aggiunto un record nel file di report contenente l'ettore passato come parametro` "
   ]
  },
  {
   "cell_type": "code",
   "execution_count": 91,
   "metadata": {},
   "outputs": [],
   "source": [
    "def write_error(report_file_name, error_comment, error_line):\n",
    "    with open(report_file_name, 'a') as report_output_file:\n",
    "        report_output_file.write('Error at line ' + error_line + '\\n\\t' + error_comment + '\\n\\n')"
   ]
  },
  {
   "cell_type": "markdown",
   "metadata": {},
   "source": [
    "**Funzione write_report:**\n",
    "\n",
    "**@parameter** *report_file_name* `Nome del file di report`\n",
    "\n",
    "**@parameter** *comment* `Stringa da scrivere sul file di report`\n",
    "\n",
    "**@post_condition** `La stringa viene scritta sul file di report`"
   ]
  },
  {
   "cell_type": "code",
   "execution_count": 92,
   "metadata": {},
   "outputs": [],
   "source": [
    "def write_report(report_file_name, comment):\n",
    "    with open(report_file_name, 'a') as report_output_file:\n",
    "        report_output_file.write(comment + '\\n\\n')"
   ]
  },
  {
   "cell_type": "markdown",
   "metadata": {},
   "source": [
    "**Creo il file report.txt, nel caso fosse già presente ne elimino il contenuto**"
   ]
  },
  {
   "cell_type": "code",
   "execution_count": 93,
   "metadata": {},
   "outputs": [],
   "source": [
    "with open(report_file_name, 'w') as report_output_file:\n",
    "        report_output_file.write('Inizio della validazione\\n\\n')"
   ]
  },
  {
   "cell_type": "markdown",
   "metadata": {},
   "source": [
    "**Leggo il file in formato GTF eliminando i commenti.**"
   ]
  },
  {
   "cell_type": "code",
   "execution_count": 94,
   "metadata": {},
   "outputs": [],
   "source": [
    "with open(gtf_file_name, 'r') as gtf_input_file:\n",
    "    gtf_file_rows = gtf_input_file.readlines() #leggo i record\n",
    "\n",
    "for row in gtf_file_rows:\n",
    "    if '#' in row: #elimino i commenti\n",
    "        gtf_file_rows[gtf_file_rows.index(row)] = gtf_file_rows[gtf_file_rows.index(row)][:row.index('#')]\n",
    "\n",
    "gtf_file_rows = [row for row in gtf_file_rows if row.rstrip() != ''] #elimino i record di solo commento"
   ]
  },
  {
   "cell_type": "code",
   "execution_count": 95,
   "metadata": {},
   "outputs": [
    {
     "data": {
      "text/plain": [
       "['140\\tTwinscan\\t3UTR\\t65149\\t65487\\t.\\t-\\t.\\tgene_id \"140.000\"; transcript_id \"140.000.1\"; \\n',\n",
       " '140\\tTwinscan\\t3UTR\\t66823\\t66992\\t.\\t-\\t.\\tgene_id \"140.000\"; transcript_id \"140.000.1\";\\n',\n",
       " '140\\tTwinscan\\tstop_codon\\t66993\\t66995\\t.\\t-\\t0\\tgene_id \"140.000\"; transcript_id \"140.000.1\";\\n',\n",
       " '140\\tTwinscan\\tCDS\\t66996\\t66999\\t.\\t-\\t1\\tgene_id \"140.000\"; transcript_id \"140.000.1\";\\n',\n",
       " '140\\tTwinscan\\tintron_CNS\\t70103\\t70151\\t*\\t-\\t.\\tgene_id \"140.000\"; transcript_id \"140.000.1\";  ',\n",
       " '140\\tTwinscan\\tCDS\\t70207\\t70294\\t.\\t-\\t2\\tgene_id \"140.000\"; transcript_id \"140.000.1\";\\n',\n",
       " '140\\tTwinscan\\tCDS\\t71696\\t71807\\t.\\t-\\t0\\tgene_id \"140.000\"; transcript_id \"140.000.1\";\\n',\n",
       " '140\\tTwinscan\\tstart_codon\\t71805\\t71806\\t.\\t-\\t0\\tgene_id \"140.000\"; transcript_id \"140.000.1\";\\n',\n",
       " '140\\tTwinscan\\tstart_codon\\t73222\\t73222\\t.\\t-\\t2\\tgene_id \"140.000\"; transcript_id \"140.000.1\";\\n',\n",
       " '140\\tTwinscan\\tCDS\\t73222\\t73222\\t.\\t-\\t0\\tgene_id \"140.000\"; transcript_id \"140.000.1\";\\n',\n",
       " '140\\tTwinscan\\t5UTR\\t73223\\t73504\\t.\\t-\\t.\\tgene_id \"140.000\"; transcript_id \"140.000.1\";']"
      ]
     },
     "execution_count": 95,
     "metadata": {},
     "output_type": "execute_result"
    }
   ],
   "source": [
    "gtf_file_rows"
   ]
  },
  {
   "cell_type": "markdown",
   "metadata": {},
   "source": [
    "## Controllo validità del file GTF\n",
    "\n",
    "**Controllo che il numero di campi, separati da tabulazione, per ogni record del file, sia uguale a 9.** \n",
    "\n",
    "In caso contrario stampo l'errore e fermo l'esecuzione."
   ]
  },
  {
   "cell_type": "code",
   "execution_count": 96,
   "metadata": {},
   "outputs": [],
   "source": [
    "for row in gtf_file_rows:\n",
    "    n_fields = len(row.rstrip().split('\\t'))\n",
    "    if n_fields != 9:\n",
    "        n_row = gtf_file_rows.index(row)\n",
    "        error_comment = 'Il numero dei campi è ' + str(n_fields) + ', dovrebbe essere 9'\n",
    "        write_error(report_file_name, error_comment, str(n_row))\n",
    "        sys.exit()\n",
    "\n",
    "write_report(report_file_name, 'Il numero dei campi è rispettato per ogni record')"
   ]
  },
  {
   "cell_type": "markdown",
   "metadata": {},
   "source": [
    "**Controllo che il campo `<source>` sia univoco all'interno del file.**\n",
    "\n",
    "In caso contrario stampo l'errore e fermo l'esecuzione."
   ]
  },
  {
   "cell_type": "code",
   "execution_count": 97,
   "metadata": {},
   "outputs": [],
   "source": [
    "for row in gtf_file_rows[1:]:\n",
    "    curr_source = row.rstrip().split('\\t')[1]\n",
    "    prec_source_index = gtf_file_rows.index(row) - 1\n",
    "    prec_source = gtf_file_rows[prec_source_index].rstrip().split('\\t')[1]\n",
    "    if prec_source != curr_source: #se il campo source corrente è diverso dal precedente ho un errore\n",
    "        error_comment = 'Il campo <source> assume valore \\'' + curr_source + '\\' che è diverso dal valore del record precedente'\n",
    "        n_row = prec_source_index + 1;\n",
    "        write_error(report_file_name, error_comment, str(n_row))\n",
    "        sys.exit()\n",
    "\n",
    "write_report(report_file_name, 'Il campo <source> è univoco in tutto il file')"
   ]
  },
  {
   "cell_type": "markdown",
   "metadata": {},
   "source": [
    "**Controllo che il campo `feature` sia ammissibile per il formato GTF**\n",
    "\n",
    "In caso contrario stampo l'errore e fermo l'esecuzione."
   ]
  },
  {
   "cell_type": "markdown",
   "metadata": {},
   "source": [
    "Inizializzo la lista dei possibili valori per il campo feature"
   ]
  },
  {
   "cell_type": "code",
   "execution_count": 98,
   "metadata": {},
   "outputs": [],
   "source": [
    "possible_feature_values = ['5UTR', '3UTR', 'start_codon', 'stop_codon', 'CDS', 'inter', 'inter_cns', 'intron_CNS', 'exon']"
   ]
  },
  {
   "cell_type": "markdown",
   "metadata": {},
   "source": [
    "Per ogni record controllo che il valore di `feature` sia in `possible_feature_values`, altrimenti stampo l'errore e fermo l'esecuzione."
   ]
  },
  {
   "cell_type": "code",
   "execution_count": 99,
   "metadata": {},
   "outputs": [],
   "source": [
    "for row in gtf_file_rows:\n",
    "    feature = row.rstrip().split('\\t')[2]\n",
    "    if feature not in possible_feature_values: #ho un errore\n",
    "        error_comment = 'Il campo <feature> assume valore \\'' + feature + '\\' che non è incluso in ' + str(possible_feature_values)\n",
    "        n_row = gtf_file_rows.index(row)\n",
    "        write_error(report_file_name, error_comment, str(n_row))\n",
    "        sys.exit()\n",
    "        \n",
    "write_report(report_file_name, 'Il campo <feature> assume valori ammissibili per ogni record del file')"
   ]
  },
  {
   "cell_type": "markdown",
   "metadata": {},
   "source": [
    "**Controllo la presenza di `gene_id` e `transcript_id` nel campo `[attributes]`.** \n",
    "\n",
    "Nel caso uno dei due non fosse presente stampo l'errore e fermo l'esecuzione."
   ]
  },
  {
   "cell_type": "code",
   "execution_count": 100,
   "metadata": {},
   "outputs": [],
   "source": [
    "for row in gtf_file_rows:\n",
    "    if len(re.findall(gene_regexpr, row.rstrip().split('\\t')[8])) != 1:\n",
    "        error_comment = 'Il campo <attributes> non contiene l\\'attributo gene_id'\n",
    "        n_row = gtf_file_rows.index(row)\n",
    "        write_error(report_file_name, error_comment, str(n_row))\n",
    "        sys.exit()\n",
    "    if len(re.findall(transcript_regexpr, row.rstrip().split('\\t')[8])) != 1:\n",
    "        error_comment = 'Il campo <attributes> non contiene l\\'attributo trancript_id'\n",
    "        n_row = gtf_file_rows.index(row)\n",
    "        write_error(report_file_name, error_comment, str(n_row))\n",
    "        sys.exit()\n",
    "\n",
    "write_report(report_file_name, 'Il campo <attributes> contiene gene_id e transcript_id per ogni record del file')"
   ]
  },
  {
   "cell_type": "markdown",
   "metadata": {},
   "source": [
    "**Controllo che il campo `<seqname>` sia univoco per ogni gene nel file.**"
   ]
  },
  {
   "cell_type": "code",
   "execution_count": 101,
   "metadata": {},
   "outputs": [],
   "source": [
    "seqname_dict = dict() #dizionario che associa ad ogni gene il proprio set di <seqname>\n",
    "\n",
    "for row in gtf_file_rows: #costruisco seqname_dict\n",
    "    seqname = row.rstrip().split('\\t')[0]\n",
    "    hugo_name = re.findall(gene_regexpr, row.rstrip().split('\\t')[8])[0] \n",
    "    \n",
    "    seqname_set = seqname_dict.get(hugo_name, set())\n",
    "    seqname_set.add(seqname)\n",
    "    seqname_dict.update([(hugo_name, seqname_set)])\n",
    "\n",
    "for gene in seqname_dict:\n",
    "    if len(seqname_dict[gene]) != 1: #in caso uno dei set associati ai geni abbia cardinalità diversa da 1 ho un errore \n",
    "        wrong_seqname_rows = [row for row in gtf_file_rows if re.findall(gene_regexpr, row.rstrip().split('\\t')[8])[0] == gene]\n",
    "        for row in wrong_seqname_rows[1:]: #rinraccio l'errore\n",
    "            curr_seqname = row.rstrip().split('\\t')[0]\n",
    "            prec_seqname_index = wrong_seqname_rows.index(row) - 1\n",
    "            prec_seqname = wrong_seqname_rows[prec_seqname_index].rstrip().split('\\t')[0]\n",
    "            if curr_seqname != prec_seqname: #ho un errore alla linea corrente\n",
    "                error_comment = 'Il campo <seqname> assume valore \\'' + curr_seqname + '\\' che è diverso dal valore del record precedente'\n",
    "                n_row = gtf_file_rows.index(row) #reperisco il record in gtf_file_rows\n",
    "                write_error(report_file_name, error_comment, str(n_row))\n",
    "                sys.exit()\n",
    "\n",
    "write_report(report_file_name, 'Il campo <seqname> è univoco per ogni gene contenuto nel file')"
   ]
  },
  {
   "cell_type": "markdown",
   "metadata": {},
   "source": [
    "**Controllo che i campi `<start>` e `<end>` siano ammissibili:**\n",
    "\n",
    "- controllo che siano numeri\n",
    "- controllo che siano non negativi\n",
    "- controllo che siano `<end>` >= `<start>`\n",
    "\n",
    "In caso contrario stampo l'errore e fermo l'esecuzione."
   ]
  },
  {
   "cell_type": "code",
   "execution_count": 102,
   "metadata": {},
   "outputs": [],
   "source": [
    "for row in gtf_file_rows:\n",
    "    start = row.rstrip().split('\\t')[3]\n",
    "    end = row.rstrip().split('\\t')[4]\n",
    "    #controllo che siano interi >= 0\n",
    "    if start.isdigit() == False:\n",
    "        error_comment = 'Il campo <start> assume il valore ' + start + '. Non è un intero'\n",
    "        n_row = gtf_file_rows.index(row)\n",
    "        write_error(report_file_name, error_comment, str(n_row))\n",
    "        sys.exit()\n",
    "    if end.isdigit() == False:\n",
    "        error_comment = 'Il campo <end> assume il valore ' + end + '. Non è un intero'\n",
    "        n_row = gtf_file_rows.index(row)\n",
    "        write_error(report_file_name, error_comment, str(n_row))\n",
    "        sys.exit()\n",
    "    start = int(start)\n",
    "    end = int(end)\n",
    "    length = end - start\n",
    "    if end < 1 : #controllo sia diverso da 0\n",
    "        error_comment = 'Il campo <end> assume il valore : ' + end + '. Non è un intero positivo'\n",
    "        n_row = gtf_file_rows.index(row)\n",
    "        write_error(report_file_name, error_comment, str(n_row))\n",
    "        sys.exit()\n",
    "    if start < 1: #controllo che sia diverso da 0\n",
    "        error_comment = 'Il campo <start> assume il valore : ' + start + '. Non è un intero positivo'\n",
    "        n_row = gtf_file_rows.index(row)\n",
    "        write_error(report_file_name, error_comment, str(n_row))\n",
    "        sys.exit()\n",
    "    if length < 0: #controllo che length sia ammissibile\n",
    "        error_comment = '<end> - <start> assume il valore ' + str(length) + '. E\\' minore di 0'\n",
    "        n_row = gtf_file_rows.index(row)\n",
    "        write_error(report_file_name, error_comment, str(n_row))\n",
    "        sys.exit()\n",
    "\n",
    "write_report(report_file_name, 'I campi <end> e <start> sono ammissibili per ogni record del file')"
   ]
  },
  {
   "cell_type": "markdown",
   "metadata": {},
   "source": [
    "**Controllo la validità del campo `<score>`:**\n",
    "\n",
    "- controllo che sia un intero\n",
    "- controllo che sia un float\n",
    "- controllo che sia un punto\n",
    "\n",
    "In caso contrario stampo l'errore e fermo l'esecuzione."
   ]
  },
  {
   "cell_type": "code",
   "execution_count": 103,
   "metadata": {},
   "outputs": [
    {
     "name": "stdout",
     "output_type": "stream",
     "text": [
      "[('', '', '.')]\n",
      "[('', '', '.')]\n",
      "[('', '', '.')]\n",
      "[('', '', '.')]\n",
      "[]\n"
     ]
    },
    {
     "ename": "SystemExit",
     "evalue": "",
     "output_type": "error",
     "traceback": [
      "An exception has occurred, use %tb to see the full traceback.\n",
      "\u001b[1;31mSystemExit\u001b[0m\n"
     ]
    }
   ],
   "source": [
    "for row in gtf_file_rows:\n",
    "    score = row.rstrip().split('\\t')[5]\n",
    "    if len(re.findall(\"(\\d+(\\.\\d+)*)|(\\.)\", score)) != 1 : #controllo che sia un intero, un float o un '.'\n",
    "        error_comment = 'Il campo <score> non è nè un punto, nè un numero decimale (separato da punto), nè un numero intero'\n",
    "        n_row = gtf_file_rows.index(row)\n",
    "        write_error(report_file_name, error_comment, str(n_row))\n",
    "        sys.exit()\n",
    "\n",
    "write_report(report_file_name, 'Il campo <score> è corretto per ogni record del file')"
   ]
  },
  {
   "cell_type": "markdown",
   "metadata": {},
   "source": [
    "**Controllo che il campo `<strand>` assuma solo valori '-' o '+'**\n",
    "\n",
    "In caso contrario stampo l'errore e fermo l'esecuzione."
   ]
  },
  {
   "cell_type": "code",
   "execution_count": 205,
   "metadata": {},
   "outputs": [],
   "source": [
    "for row in gtf_file_rows:\n",
    "    strand = row.rstrip().split('\\t')[6]\n",
    "    if strand not in ('+', '-'):\n",
    "        error_comment = 'Il campo <strand> assume il valore ' + strand + '. Il valore del campo <strand> può assumere i valori \\'+\\' o \\'-\\''\n",
    "        n_row = gtf_file_rows.index(row)\n",
    "        write_error(report_file_name, error_comment, str(n_row))\n",
    "        sys.exit()\n",
    "\n",
    "write_report(report_file_name, 'il campo <strand> assume un valore ammissibile per ogni record del file')"
   ]
  },
  {
   "cell_type": "markdown",
   "metadata": {},
   "source": [
    "**Controllo che per ogni gene il campo `<strand>` sia uguale per ogni gene**\n",
    "\n",
    "In caso contrario stampo l'errore e fermo l'esecuzione."
   ]
  },
  {
   "cell_type": "code",
   "execution_count": 206,
   "metadata": {},
   "outputs": [],
   "source": [
    "strand_dict = dict() #dizionario che per ogni gene incluso nel file GTF contiene il set di strand associati\n",
    "\n",
    "for row in gtf_file_rows: #costruisco il dizionario\n",
    "    hugo_name = re.findall(gene_regexpr, row.rstrip().split('\\t')[8])[0]\n",
    "    strand = row.rstrip().split('\\t')[6]\n",
    "    \n",
    "    strand_set = strand_dict.get(hugo_name, set())\n",
    "    strand_set.add(strand)\n",
    "    strand_dict.update([(hugo_name, strand_set)])\n",
    "\n",
    "for hugo_name in strand_dict: \n",
    "    strand_set = strand_dict[hugo_name]\n",
    "    if len(strand_set) != 1: #se il set associato ad ogni gene ha cardinalità diversa da 1 ho una violazione\n",
    "        wrong_seqname_rows = [row for row in gtf_file_rows if re.findall(gene_regexpr, row.rstrip().split('\\t')[8])[0] == hugo_name]\n",
    "        for row in wrong_seqname_rows[1:]: #rintraccio l'errore\n",
    "            curr_strand = row.rstrip().split('\\t')[6]\n",
    "            prec_strand_index = wrong_seqname_rows.index(row) - 1\n",
    "            prec_strand = wrong_seqname_rows[prec_strand_index].rstrip().split('\\t')[6]\n",
    "            if curr_strand != prec_strand: #ho un errore in questo caso\n",
    "                error_comment = 'Il campo <strand> per il gene ' + hugo_name + ' assume valore diverso da quello del record precedente'\n",
    "                n_row = gtf_file_rows.index(row)\n",
    "                write_error(report_file_name, error_comment, str(n_row))\n",
    "                sys.exit()\n",
    "\n",
    "write_report(report_file_name, 'il campo <strand> è unico per ogni gene nel file')"
   ]
  },
  {
   "cell_type": "markdown",
   "metadata": {},
   "source": [
    "**Controllo validità sintattica del campo `<frame>`, deve essere compreso tra 0, 1, 2, '.'**\n",
    "\n",
    "In caso contrario stampo l'errore e fermo l'esecuzione."
   ]
  },
  {
   "cell_type": "code",
   "execution_count": 207,
   "metadata": {},
   "outputs": [],
   "source": [
    "for row in gtf_file_rows:\n",
    "    frame = row.rstrip().split('\\t')[7]\n",
    "    if frame not in ('0', '1', '2', '.'):\n",
    "        error_comment = 'Il campo <frame> assume il valore ' + frame + ' dovrebbe essere 0, 1, 2 oppure \\'.\\''\n",
    "        n_row = gtf_file_rows.index(row)\n",
    "        write_error(report_file_name, error_comment, str(n_row))\n",
    "        sys.exit()\n",
    "\n",
    "write_report(report_file_name, 'Il campo <frame> assume valori compresi tra 0, 1, 2 e \\'.\\'')"
   ]
  },
  {
   "cell_type": "markdown",
   "metadata": {},
   "source": [
    "**Controllo che per la CDS, start_codon e stop_codon il valore del campo `<frame>` sia diverso da '.'**\n",
    "\n",
    "In caso contrario stampo l'errore e fermo l'esecuzione."
   ]
  },
  {
   "cell_type": "code",
   "execution_count": 208,
   "metadata": {},
   "outputs": [],
   "source": [
    "for row in gtf_file_rows:\n",
    "    frame = row.rstrip().split('\\t')[7]\n",
    "    feature = row.rstrip().split('\\t')[2]\n",
    "    if feature in ('start_codon', 'stop_codon', 'CDS'):\n",
    "        if frame == '.':\n",
    "            error_comment = 'Il campo <frame> assume il valore \\'.\\' per una feature ' + feature + ' dovrebbe essere 0, 1 oppure 2 '\n",
    "            n_row = gtf_file_rows.index(row)\n",
    "            write_error(report_file_name, error_comment, str(n_row))\n",
    "            sys.exit()\n",
    "    else:\n",
    "        if frame != '.':\n",
    "            error_comment = 'Il campo <frame> assume il valore compreso tra ' + str((0, 1, 2)) + ' per una feature ' + feature + ' dovrebbe essere \\'.\\''\n",
    "            n_row = gtf_file_rows.index(row)\n",
    "            write_error(report_file_name, error_comment, str(n_row))\n",
    "            sys.exit()\n",
    "     \n",
    "\n",
    "write_report(report_file_name, 'Il campo <frame> assume valori ammissibili in funzione della feature corrispondente per ogni record')"
   ]
  },
  {
   "cell_type": "markdown",
   "metadata": {},
   "source": [
    "**Controllo che per ogni trascritto di ogni gene siano predenti le feature `start_codon`, `stop_codon`, `CDS`**\n",
    "\n",
    "**Al contrario di quanto fornito nelle spefiche, questo controllo non è necessario, ma è stato comunque implementato**\n",
    "\n",
    "Costruisco un dizionario per ogni feature che faccia corrispondere ad ogni gene i suoi trascritti"
   ]
  },
  {
   "cell_type": "markdown",
   "metadata": {},
   "source": [
    "id_dict_start = dict() #dizionario per start_codon\n",
    "\n",
    "for row in gtf_file_rows:\n",
    "        hugo_name = re.findall(gene_regexpr, row.rstrip().split('\\t')[8])[0]\n",
    "        transcript_id = re.findall(transcript_regexpr, row.rstrip().split('\\t')[8])[0]\n",
    "    \n",
    "        transcript_dict = id_dict_start.get(hugo_name, dict())\n",
    "        transcript_dict[transcript_id] = 0\n",
    "        id_dict_start.update([(hugo_name, transcript_dict)])\n",
    "\n",
    "import copy #necessario per copiare il dizionario e non il reference al dizionario\n",
    "#i dizionari per stop_codon e CDS sono identici a quello per start_codon\n",
    "id_dict_CDS = copy.deepcopy(id_dict_start) \n",
    "id_dict_stop = copy.deepcopy(id_dict_start)"
   ]
  },
  {
   "cell_type": "markdown",
   "metadata": {},
   "source": [
    "Ogni volta che incontro una feature `start_codon`, `stop_codon` o `CDS` incremento il valore del corrispondente trascritto del corrispondente gene del corrispondente dizionario"
   ]
  },
  {
   "cell_type": "markdown",
   "metadata": {},
   "source": [
    "for row in gtf_file_rows:\n",
    "    hugo_name = re.findall(gene_regexpr, row.rstrip().split('\\t')[8])[0]\n",
    "    transcript_id = re.findall(transcript_regexpr, row.rstrip().split('\\t')[8])[0]\n",
    "    if row.rstrip().split('\\t')[2] == 'start_codon':\n",
    "        id_dict_start[hugo_name][transcript_id] += 1;\n",
    "    if row.rstrip().split('\\t')[2] == 'stop_codon':\n",
    "        id_dict_stop[hugo_name][transcript_id] += 1;\n",
    "    if row.rstrip().split('\\t')[2] == 'CDS':\n",
    "        id_dict_CDS[hugo_name][transcript_id] += 1;"
   ]
  },
  {
   "cell_type": "markdown",
   "metadata": {},
   "source": [
    "Controllo che per ogni gene, per ogni trascritto, per ogni dizionario, il suo numero di ricorrenze sia > 0"
   ]
  },
  {
   "cell_type": "markdown",
   "metadata": {},
   "source": [
    "for hugo_name in id_dict_start:\n",
    "    for transcript in id_dict_start[hugo_name]:\n",
    "        if id_dict_start[hugo_name][transcript] < 1:\n",
    "            error_comment = 'Non è presente la feature start_codon per il trascritto ' + transcript + ' del gene ' + hugo_name\n",
    "            write_error(report_file_name, error_comment, '')\n",
    "            sys.exit()\n",
    "for hugo_name in id_dict_stop:\n",
    "    for transcript in id_dict_stop[hugo_name]:\n",
    "        if id_dict_stop[hugo_name][transcript] < 1:\n",
    "            error_comment = 'Non è presente la feature stop_codon per il trascritto ' + transcript + ' del gene ' + hugo_name\n",
    "            write_error(report_file_name, error_comment, '')\n",
    "            sys.exit()\n",
    "\n",
    "for hugo_name in id_dict_CDS:\n",
    "    for transcript in id_dict_CDS[hugo_name]:\n",
    "        if id_dict_CDS[hugo_name][transcript] < 1:\n",
    "            error_comment = 'Non è presente la feature CDS per il trascritto ' + transcript + ' del gene ' + hugo_name\n",
    "            write_error(report_file_name, error_comment, '')\n",
    "            sys.exit()\n",
    "\n",
    "write_report(report_file_name, 'Le feature start_codon, stop_codon, CDS sono presenti per ogni trascritto di ogni gene')"
   ]
  },
  {
   "cell_type": "markdown",
   "metadata": {},
   "source": [
    "**Per ogni trascritto controllo che gli indici di inizio e di fine degli esoni non si sovappongano** \n",
    "\n",
    "In caso contrario stampo l'errore e fermo l'esecuzione.\n",
    "\n",
    "Costruisco un dizionario che faccia corrispondere ad ogni gene i suoi trascritti"
   ]
  },
  {
   "cell_type": "code",
   "execution_count": 209,
   "metadata": {},
   "outputs": [],
   "source": [
    "id_dict = dict()\n",
    "\n",
    "for row in gtf_file_rows:\n",
    "    if row.rstrip().split('\\t')[2] == 'exon':\n",
    "        hugo_name = re.findall(gene_regexpr, row.rstrip().split('\\t')[8])[0]\n",
    "        transcript_id = re.findall(transcript_regexpr, row.rstrip().split('\\t')[8])[0]\n",
    "    \n",
    "        transcript_set = id_dict.get(hugo_name, set())\n",
    "        transcript_set.add(transcript_id)\n",
    "        id_dict.update([(hugo_name, transcript_set)])"
   ]
  },
  {
   "cell_type": "markdown",
   "metadata": {},
   "source": [
    "Costruisco un dizionario che faccia corrispondere ad ogni trascritto, una lista di tuple con indice di inizio e fine"
   ]
  },
  {
   "cell_type": "code",
   "execution_count": 210,
   "metadata": {},
   "outputs": [],
   "source": [
    "transcript_dict = dict()\n",
    "\n",
    "for row in gtf_file_rows:\n",
    "    if row.rstrip().split('\\t')[2] == 'exon':\n",
    "        transcript_id = re.findall(transcript_regexpr, row.rstrip().split('\\t')[8])[0]\n",
    "        start = row.rstrip().split('\\t')[3]\n",
    "        end = row.rstrip().split('\\t')[4]\n",
    "    \n",
    "        start_end_list = transcript_dict.get(transcript_id, list())\n",
    "        start_end_list.append((start, end))\n",
    "        transcript_dict.update([(transcript_id, start_end_list)])"
   ]
  },
  {
   "cell_type": "markdown",
   "metadata": {},
   "source": [
    "Controllo che le tuple non si sovrappongano"
   ]
  },
  {
   "cell_type": "code",
   "execution_count": 211,
   "metadata": {},
   "outputs": [
    {
     "ename": "SystemExit",
     "evalue": "",
     "output_type": "error",
     "traceback": [
      "An exception has occurred, use %tb to see the full traceback.\n",
      "\u001b[1;31mSystemExit\u001b[0m\n"
     ]
    }
   ],
   "source": [
    "for gene in id_dict:\n",
    "    for transcript in id_dict[gene]:\n",
    "        transcript_dict[transcript].sort() #ordino le tuple (start, end)\n",
    "        for start_end in transcript_dict[transcript][:-1]:\n",
    "            next_index = transcript_dict[transcript].index(start_end) + 1\n",
    "            next_ele = transcript_dict[transcript][next_index]\n",
    "            if start_end[1] >= next_ele[0]: #controllo che la fine di una non venga dopo l'inizio della successiva\n",
    "                error_comment = 'Nel gene ' + gene + ' nel trascritto ' + transcript + ' l\\'esone che inizia a ' + start_end[0] + ' e finisce a ' + start_end[1] + ' si sovrappone all\\'esone successivo'\n",
    "                for row in gtf_file_rows: #cerrco il record in cui è stato commesso l'errore\n",
    "                    gene_row = re.findall(gene_regexpr, row.rstrip().split('\\t')[8])[0]\n",
    "                    transcript_row = re.findall(transcript_regexpr, row.rstrip().split('\\t')[8])[0]\n",
    "                    start_row = row.rstrip().split('\\t')[3]\n",
    "                    end_row = row.rstrip().split('\\t')[4] \n",
    "                    feature = row.rstrip().split('\\t')[2]\n",
    "                    if gene_row == gene and transcript == transcript_row and start_end[0] == start_row and start_end[1] == end_row and feature == 'exon':\n",
    "                        #una volta trovato il record stammpo l'errore\n",
    "                        n_row = gtf_file_rows.index(row)\n",
    "                        write_error(report_file_name, error_comment, str(n_row))\n",
    "                        sys.exit()\n",
    "\n",
    "write_report(report_file_name, 'Nessun esone di nessun trascritto si sovrappone ad un altro per ogni gene nel file ')\n",
    "                \n",
    "        "
   ]
  },
  {
   "cell_type": "markdown",
   "metadata": {},
   "source": [
    "**Per ogni Trascritto controllo che gli indici di inizio e di fine dei segmenti della CDS non si sovappongano** \n",
    "\n",
    "In caso contrario stampo l'errore e fermo l'esecuzione.\n",
    "\n",
    "Costruisco un dizionario che Faccia corrispondere ad ogni gene i suoi trascritti"
   ]
  },
  {
   "cell_type": "code",
   "execution_count": 185,
   "metadata": {},
   "outputs": [],
   "source": [
    "#stessa proceedura del punto di prima, solo per i record CDS\n",
    "id_dict = dict()\n",
    "\n",
    "for row in gtf_file_rows:\n",
    "    if row.rstrip().split('\\t')[2] == 'CDS':\n",
    "        hugo_name = re.findall(gene_regexpr, row.rstrip().split('\\t')[8])[0]\n",
    "        transcript_id = re.findall(transcript_regexpr, row.rstrip().split('\\t')[8])[0]\n",
    "    \n",
    "        transcript_set = id_dict.get(hugo_name, set())\n",
    "        transcript_set.add(transcript_id)\n",
    "        id_dict.update([(hugo_name, transcript_set)])"
   ]
  },
  {
   "cell_type": "markdown",
   "metadata": {},
   "source": [
    "Costruisco un dizionario che faccia corrispondere ad ogni trascritto, una lista di tuple con indice di inizio e fine"
   ]
  },
  {
   "cell_type": "code",
   "execution_count": 186,
   "metadata": {},
   "outputs": [],
   "source": [
    "transcript_dict = dict()\n",
    "\n",
    "for row in gtf_file_rows:\n",
    "    if row.rstrip().split('\\t')[2] == 'CDS':\n",
    "        transcript_id = re.findall(transcript_regexpr, row.rstrip().split('\\t')[8])[0]\n",
    "        start = row.rstrip().split('\\t')[3]\n",
    "        end = row.rstrip().split('\\t')[4]\n",
    "    \n",
    "        start_end_list = transcript_dict.get(transcript_id, list())\n",
    "        start_end_list.append((start, end))\n",
    "        transcript_dict.update([(transcript_id, start_end_list)])"
   ]
  },
  {
   "cell_type": "markdown",
   "metadata": {},
   "source": [
    "Controllo che le tuple non si sovrappongano"
   ]
  },
  {
   "cell_type": "code",
   "execution_count": 187,
   "metadata": {},
   "outputs": [],
   "source": [
    "for gene in id_dict:\n",
    "    for transcript in id_dict[gene]:\n",
    "        transcript_dict[transcript].sort() \n",
    "        for start_end in transcript_dict[transcript][:-1]:\n",
    "            next_index = transcript_dict[transcript].index(start_end) + 1\n",
    "            next_ele = transcript_dict[transcript][next_index]\n",
    "            if start_end[1] >= next_ele[0]:\n",
    "                error_comment = 'Nel gene ' + gene + ' nel trascritto ' + transcript + ' Il segmento di CDS che inizia a ' + start_end[0] + ' e finisce a ' + start_end[1] + ' si sovrappone al segmento successivo'\n",
    "                print(error_comment)\n",
    "                for row in gtf_file_rows:\n",
    "                    gene_row = re.findall(gene_regexpr, row.rstrip().split('\\t')[8])[0]\n",
    "                    transcript_row = re.findall(transcript_regexpr, row.rstrip().split('\\t')[8])[0]\n",
    "                    start_row = row.rstrip().split('\\t')[3]\n",
    "                    end_row = row.rstrip().split('\\t')[4]\n",
    "                    feature = row.rstrip().split('\\t')[2]\n",
    "                    if gene_row == gene and transcript == transcript_row and start_end[0] == start_row and start_end[1] == end_row and feature == 'CDS':\n",
    "                        n_row = gtf_file_rows.index(row)\n",
    "                        write_error(report_file_name, error_comment, str(n_row))\n",
    "                        sys.exit()\n",
    "\n",
    "write_report(report_file_name, 'Nessun segmento della CDS di nessun trascritto si sovrappone ad un altro per ogni gene nel file')"
   ]
  },
  {
   "cell_type": "markdown",
   "metadata": {},
   "source": [
    "**Controllo validità delle feature start_codon e stop_codon nel caso ci siano:**\n",
    "\n",
    "Controllo che siano alpiù lunghe 3"
   ]
  },
  {
   "cell_type": "code",
   "execution_count": 189,
   "metadata": {},
   "outputs": [],
   "source": [
    "gene_transcript_set_start = set() #Lo uso per memorizzare gene_id e transcript_id dei campi <start_codon> supposti non atomici\n",
    "gene_transcript_set_stop = set() #Lo uso per memorizzare gene_id e transcript_id dei campi <stop_codon> supposti non atomici\n",
    "for row in gtf_file_rows:\n",
    "    feature  = row.rstrip().split('\\t')[2]\n",
    "    if feature == 'start_codon' or feature == 'stop_codon':\n",
    "        start = int(row.rstrip().split('\\t')[3])\n",
    "        end = int(row.rstrip().split('\\t')[4])\n",
    "        length = end - start + 1\n",
    "        if length > 3: #errore\n",
    "            error_comment = 'La lunghezza della feature ' + feature + ' è ' + str(length) + '. Dovrebbe essere al massimo 3'\n",
    "            n_row = gtf_file_rows.index(row)\n",
    "            write_error(report_file_name, error_comment, str(n_row))\n",
    "            sys.exit()\n",
    "        elif length == 3: #verifico che <frame> sia 0\n",
    "            frame = row.rstrip().split('\\t')[7]\n",
    "            if frame != '0': #per i record start_codon/stop_codon lunghi 3bp il frame deve essere = 0\n",
    "                #errore\n",
    "                error_comment = 'Il valore del campo <frame> è ' + frame + '. Dovrebbe essere 0 per feaure atomiche di tipo ' + feature\n",
    "                n_row = gtf_file_rows.index(row)\n",
    "                write_error(report_file_name, error_comment, str(n_row))\n",
    "                sys.exit()\n",
    "            #se non ho un errore, aggiungo lo hugo_name e il transcript_id al relativo set\n",
    "            hugo_name = re.findall(gene_regexpr, row.rstrip().split('\\t')[8])[0]\n",
    "            transcript_id = re.findall(transcript_regexpr, row.rstrip().split('\\t')[8])[0]\n",
    "            if feature == 'start_codon':\n",
    "                gene_transcript_set_start.add((hugo_name, transcript_id))\n",
    "            else:\n",
    "                gene_transcript_set_stop.add((hugo_name, transcript_id))\n",
    "        else: #suppongo campo non atomico \n",
    "            hugo_name = re.findall(gene_regexpr, row.rstrip().split('\\t')[8])[0]\n",
    "            transcript_id = re.findall(transcript_regexpr, row.rstrip().split('\\t')[8])[0]\n",
    "            if feature == 'start_codon':\n",
    "                gene_transcript_set_start.add((hugo_name, transcript_id))\n",
    "            else:\n",
    "                gene_transcript_set_stop.add((hugo_name, transcript_id))"
   ]
  },
  {
   "cell_type": "markdown",
   "metadata": {},
   "source": [
    "Per start_codon e stop_codon controllo che la loro lunghezza sia 3"
   ]
  },
  {
   "cell_type": "code",
   "execution_count": 190,
   "metadata": {},
   "outputs": [],
   "source": [
    "#per le due feaure inizializzo un dizionario che perogni gene e per ogni trascritto relativo a quel gene \n",
    "#faccia corrispondere la lunghezza sei campi start_codon/stop_codon\n",
    "feature_length_start = dict.fromkeys(gene_transcript_set_start, 0)\n",
    "feature_length_stop = dict.fromkeys(gene_transcript_set_stop, 0)\n",
    "\n",
    "for row in gtf_file_rows:\n",
    "    feature  = row.rstrip().split('\\t')[2]\n",
    "    hugo_name = re.findall(gene_regexpr, row.rstrip().split('\\t')[8])[0]\n",
    "    transcript_id = re.findall(transcript_regexpr, row.rstrip().split('\\t')[8])[0]\n",
    "    key = (hugo_name, transcript_id)\n",
    "    if feature == 'start_codon' and key in gene_transcript_set_start:\n",
    "        start = int(row.rstrip().split('\\t')[3])\n",
    "        end = int(row.rstrip().split('\\t')[4])\n",
    "        length = end - start + 1\n",
    "        feature_length_start[key] += length\n",
    "    if feature == 'stop_codon' and key in gene_transcript_set_stop:\n",
    "        start = int(row.rstrip().split('\\t')[3])\n",
    "        end = int(row.rstrip().split('\\t')[4])\n",
    "        length = end- start + 1\n",
    "        feature_length_stop[key] += length\n",
    "#costruisco due liste per le due feature che contengano le coppie (gene_id, transcript_id) che non rispettano il vincolo\n",
    "error_gene_transcript_start =[k for k, v in feature_length_start.items() if v != 3]\n",
    "error_gene_transcript_stop = [k for k, v in feature_length_stop.items() if v != 3]\n",
    "#se sono diverse dalla lista vuota ho un errore\n",
    "if error_gene_transcript_start != []:\n",
    "    error_comment = 'Per i seguenti coppie (gene_id, transcript_id) : ' + str(error_gene_transcript_start) + ' non è stata rispettata la lunghezza della feature <start_codon>'\n",
    "    write_error(report_file_name, error_comment, 'undefined') #non avrebbe senso specificare un linea per questo errore\n",
    "    sys.exit()\n",
    "\n",
    "if error_gene_transcript_stop != []:\n",
    "    error_comment = 'Per i seguenti coppie (gene_id, transcript_id) : ' + str(error_gene_transcript_stop) + ' non è stata rispettata la lunghezza della feature <stop_codon> '\n",
    "    write_error(report_file_name, error_comment, 'undefined')\n",
    "    sys.exit()\n",
    "\n",
    "write_report(report_file_name, 'Nel caso siano presenti start_codon e stop_codon, la lunghezza di queste feature è rispettata')"
   ]
  },
  {
   "cell_type": "markdown",
   "metadata": {},
   "source": []
  }
 ],
 "metadata": {
  "kernelspec": {
   "display_name": "Python 3",
   "language": "python",
   "name": "python3"
  },
  "language_info": {
   "codemirror_mode": {
    "name": "ipython",
    "version": 3
   },
   "file_extension": ".py",
   "mimetype": "text/x-python",
   "name": "python",
   "nbconvert_exporter": "python",
   "pygments_lexer": "ipython3",
   "version": "3.8.3"
  }
 },
 "nbformat": 4,
 "nbformat_minor": 4
}
